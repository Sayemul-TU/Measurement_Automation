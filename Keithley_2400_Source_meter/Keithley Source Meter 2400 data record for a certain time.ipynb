{
 "cells": [
  {
   "cell_type": "markdown",
   "metadata": {},
   "source": [
    "### Read Keithley 2400 Source Meter using Python using serial communication\n",
    "\n",
    "__Autor: Sayemul Islam (ECE Dept., Temple University)__\n",
    "\n",
    "You may use Serial to USB converter for this job (which I did). Make sure the driver is installed properly. There are more instructions to follow, check the code comments.\n",
    "\n",
    "USB Serial Driver Issue?\n",
    "\n",
    "Windows 10, 64 bit machine: \"Microsoft -> USB Serial Device\" driver should be used.\n",
    "1. Go to Device Manager, right click on the defective serial device\n",
    "2. Go to \"Update Driver\" \n",
    "3. Browse my computer... \n",
    "4. Let me pick...\n",
    "5. Remove \"Show compatible hardware\" check and choose Microsoft -> USB Serial Device"
   ]
  },
  {
   "cell_type": "code",
   "execution_count": 1,
   "metadata": {},
   "outputs": [
    {
     "data": {
      "text/plain": [
       "('ASRL1::INSTR', 'ASRL3::INSTR', 'ASRL7::INSTR', 'ASRL13::INSTR')"
      ]
     },
     "execution_count": 1,
     "metadata": {},
     "output_type": "execute_result"
    }
   ],
   "source": [
    "# VISA Resource Name: USB0::0xF4ED::0xEE3A::447K15118::INSTR\n",
    "\n",
    "from pymeasure.instruments.keithley import Keithley2400\n",
    "import visa #pip install pyvisa\n",
    "from datetime import datetime\n",
    "import time\n",
    "import openpyxl # Excel processor library\n",
    "import pandas as pd\n",
    "import os # To open any files in file browser\n",
    "import sys # Interfacing computer HID system\n",
    "import readchar # pip install readchar\n",
    "import numpy as np\n",
    "from decimal import Decimal\n",
    "import itertools\n",
    "import winsound # To access windows default audio library \n",
    "import matplotlib.pyplot as plt\n",
    "from matplotlib.mlab import find\n",
    "import matplotlib.animation as animation\n",
    "%matplotlib inline\n",
    "\n",
    "excelfile = 'CapturedData.xlsx'\n",
    "\n",
    "rm = visa.ResourceManager()\n",
    "rm.list_resources()\n",
    "\n",
    "#prints (e.g.)\n",
    "    #0 : GPIB0::22::INSTR : Agilent Technologies,34410A,******\n",
    "    #1 : GPIB0::26::INSTR : Keithley Instruments Inc., Model 2612, *****\n",
    "#keithley = Keithley2400(resources[0])"
   ]
  },
  {
   "cell_type": "code",
   "execution_count": 2,
   "metadata": {},
   "outputs": [
    {
     "data": {
      "text/plain": [
       "'KEITHLEY INSTRUMENTS INC.,MODEL 2400,0637357,C03   May 10 1996 10:32:55/A02  '"
      ]
     },
     "execution_count": 2,
     "metadata": {},
     "output_type": "execute_result"
    }
   ],
   "source": [
    "src_mtr = rm.open_resource(rm.list_resources()[3]) #    <- last one usually\n",
    "src_mtr.baud_rate = 9600  #   < -- Manually set the same baud rate with the device\n",
    "src_mtr.timeout = 1000 #   < -- Give it extra time if timeout error occurs\n",
    "src_mtr.read_termination = '\\n'\n",
    "\n",
    "src_mtr.write(\"*IDN?\") \n",
    "src_mtr.read()\n",
    "\n",
    "# Expected Output: 'KEITHLEY INSTRUMENTS INC.,MODEL 2400,0637357,C03   May 10 1996 10:32:55/A02  '"
   ]
  },
  {
   "cell_type": "code",
   "execution_count": 3,
   "metadata": {},
   "outputs": [],
   "source": []
  },
  {
   "cell_type": "code",
   "execution_count": 4,
   "metadata": {},
   "outputs": [],
   "source": [
    "# 1. Set measurement mode (V,I,R) -> Automatic\n",
    "# 2. Set voltage or current compliance value\n",
    "# 3. Measure the value (V,I,R)\n",
    "\n",
    "#----------------Optional: Disable Display for faster operation----------------\n",
    "\n",
    "#src_mtr.write(':DISPlay:ENABle OFF')\n",
    "#src_mtr.write(':DISPlay:ENABle ON')\n",
    "\n",
    "#------------------------------------------------------------------------------\n",
    "\n",
    "#src_mtr.write(':SENSe:VOLTage:PROTection 5')  #     <-- Set V Compliance 5V\n",
    "#src_mtr.query_ascii_values(':MEAS:VOLTage:DC?') # 1st array object\n",
    "\n",
    "#------------------------------------------------------------------------------\n",
    "\n",
    "#src_mtr.write(':SENSe:CURRent:PROTection 0.005')  #     <-- Set I Compliance 5mA\n",
    "#src_mtr.query_ascii_values(':MEAS:CURRent:DC?')\n",
    "\n",
    "#------------------------------------------------------------------------------\n",
    "#src_mtr.query_ascii_values(':MEAS:RESistance?') # 3rd array object\n"
   ]
  },
  {
   "cell_type": "code",
   "execution_count": 7,
   "metadata": {},
   "outputs": [],
   "source": [
    "#############################################################################################################################"
   ]
  },
  {
   "cell_type": "code",
   "execution_count": 5,
   "metadata": {},
   "outputs": [],
   "source": [
    "# # Measure DC voltage\n",
    "\n",
    "# def Measure():\n",
    "#     global DC_V\n",
    "#     src_mtr.write(':SOUR:FUNC CURR') # I Source mode\n",
    "#     src_mtr.write(':SENSe:FUNC \"VOLT\"') # Sensing Voltage\n",
    "#     #src_mtr.write(':SENSe:VOLTage:PROTection 5')  #     <-- Set V Compliance 5V, by default it's 21V\n",
    "#     DC_V = src_mtr.query_ascii_values(':MEAS:VOLTage:DC?')   # Measuring here\n",
    "#     DC_V = DC_V[0] \n",
    "#     return DC_V    "
   ]
  },
  {
   "cell_type": "code",
   "execution_count": 6,
   "metadata": {},
   "outputs": [],
   "source": [
    "# Measure DC current\n",
    "\n",
    "def Measure():\n",
    "    global DC_I\n",
    "    src_mtr.write(':SOUR:FUNC VOLT') # V Source mode\n",
    "    src_mtr.write(':SENSe:FUNC \"CURR\"') # Sensing Current\n",
    "    src_mtr.write(':SENSe:CURRent:PROTection 0.005')#  <-- Set I Compliance 5mA\n",
    "    DC_I = src_mtr.query_ascii_values(':MEAS:CURRent:DC?')  # Measuring here\n",
    "    DC_I = DC_I[1] \n",
    "    return DC_I    "
   ]
  },
  {
   "cell_type": "code",
   "execution_count": null,
   "metadata": {},
   "outputs": [],
   "source": [
    "# # Measure Resistance\n",
    "\n",
    "# def Measure():\n",
    "#     global R\n",
    "#     src_mtr.write(':SOUR:FUNC CURR') # I Source mode only\n",
    "#     #src_mtr.write(':SENSe:VOLTage:PROTection 0.1')  #     <-- Set V Compliance 5V, by default it's 21V\n",
    "    \n",
    "#     R = src_mtr.query_ascii_values(':MEAS:RES?')\n",
    "#     R = R[2] \n",
    "#     return R-0.2855    ## 0.2855 / 0.2823 (no clip) is the resistance of the scope wire (update by yourself)"
   ]
  },
  {
   "cell_type": "code",
   "execution_count": 8,
   "metadata": {
    "scrolled": false
   },
   "outputs": [
    {
     "name": "stdout",
     "output_type": "stream",
     "text": [
      "Scan: 1 , Value: 2.811519e-07, time: 0.36183506100000784\n",
      "Scan: 2 , Value: -1.544951e-08, time: 0.3675426109999904\n",
      "Scan: 3 , Value: -2.497985e-08, time: 0.36758336199999064\n",
      "Scan: 4 , Value: -2.096676e-08, time: 0.36759121100000414\n",
      "Scan: 5 , Value: -1.666355e-08, time: 0.3825456069999973\n",
      "Scan: 6 , Value: -2.040542e-08, time: 0.3835329879999989\n",
      "Scan: 7 , Value: 1.049973e-06, time: 0.3515818160000066\n",
      "Scan: 8 , Value: 7.658538e-05, time: 0.38352664800000014\n",
      "Scan: 9 , Value: 4.217198e-09, time: 0.36754502600000194\n",
      "Scan: 10 , Value: 1.264845e-08, time: 0.367540498000011\n",
      "Scan: 11 , Value: 1.676778e-08, time: 0.3675525719999939\n",
      "Scan: 12 , Value: 2.448478e-08, time: 0.3835272530000111\n",
      "Scan: 13 , Value: 2.153254e-08, time: 0.3835514010000054\n",
      "Scan: 14 , Value: 2.38531e-08, time: 0.398506703999999\n",
      "Scan: 15 , Value: 1.049864e-06, time: 0.351551630000003\n",
      "Scan: 16 , Value: 9.305237e-05, time: 0.3836099619999942\n",
      "Scan: 17 , Value: 1.61368e-08, time: 0.3832646350000033\n",
      "Scan: 18 , Value: -1.731623e-08, time: 0.38360362299999906\n",
      "Scan: 19 , Value: 8.556916e-09, time: 0.3675362720000095\n",
      "Scan: 20 , Value: 5.736036e-09, time: 0.36756011900000374\n",
      "Scan: 21 , Value: -1.312721e-08, time: 0.38252266599999984\n",
      "Scan: 22 , Value: -9.638805e-09, time: 0.38361298000000943\n",
      "Scan: 23 , Value: -1.116428e-08, time: 0.383486199999993\n",
      "Scan: 24 , Value: 1.04988e-06, time: 0.35155646100000126\n",
      "Scan: 25 , Value: 2.339687e-09, time: 0.3675260090000023\n",
      "Scan: 26 , Value: -2.089298e-08, time: 0.3675495539999929\n",
      "Scan: 27 , Value: -1.885521e-08, time: 0.3675872870000063\n",
      "Scan: 28 , Value: -9.539829e-09, time: 0.3834092259999977\n",
      "Scan: 29 , Value: -1.093867e-08, time: 0.382600846999992\n",
      "Scan: 30 , Value: -9.832166e-09, time: 0.38360422600000277\n",
      "Scan: 31 , Value: 1.049951e-06, time: 0.3515268780000014\n",
      "Scan: 32 , Value: 6.778078e-05, time: 0.3835151779999961\n",
      "Scan: 33 , Value: 1.326695e-08, time: 0.3676292450000176\n",
      "Scan: 34 , Value: 1.753339e-08, time: 0.36756585499998096\n",
      "Scan: 35 , Value: 2.445769e-08, time: 0.3675730989999977\n",
      "Scan: 36 , Value: 2.081215e-08, time: 0.38252326900001776\n",
      "Scan: 37 , Value: 2.101665e-08, time: 0.38360060499999804\n",
      "Scan: 38 , Value: 1.049537e-06, time: 0.35162558599998306\n",
      "Scan: 39 , Value: 9.473314e-05, time: 0.3835489870000117\n",
      "Scan: 40 , Value: 9.178067e-09, time: 0.36752963099999647\n",
      "Scan: 41 , Value: 5.114436e-09, time: 0.38360392500001694\n",
      "Scan: 42 , Value: -3.878176e-09, time: 0.36753385699998375\n",
      "Scan: 43 , Value: -1.703016e-08, time: 0.38354928800001176\n",
      "Scan: 44 , Value: -1.394152e-08, time: 0.382599942000013\n",
      "Scan: 45 , Value: -1.211335e-08, time: 0.36760600100001284\n",
      "Scan: 46 , Value: 1.050095e-06, time: 0.3515561590000118\n",
      "Scan: 47 , Value: -1.651616e-08, time: 0.36755015800000024\n",
      "Scan: 48 , Value: -2.033954e-08, time: 0.36753898899999626\n",
      "Scan: 49 , Value: -1.649833e-08, time: 0.3676138499999979\n",
      "Scan: 50 , Value: -5.792923e-09, time: 0.3835631730000273\n",
      "Scan: 51 , Value: -3.151068e-09, time: 0.38353177999999843\n",
      "Scan: 52 , Value: 1.001578e-08, time: 0.38251330800000005\n",
      "Scan: 53 , Value: 1.050061e-06, time: 0.351630718000024\n",
      "Scan: 54 , Value: 4.938929e-05, time: 0.3835269500000038\n",
      "Scan: 55 , Value: 1.742901e-08, time: 0.38354264700001295\n",
      "Scan: 56 , Value: 1.710411e-08, time: 0.36754925200000343\n",
      "Scan: 57 , Value: 2.419163e-08, time: 0.36761535900001263\n",
      "Scan: 58 , Value: -1.407722e-08, time: 0.3835948690000066\n",
      "Scan: 59 , Value: 1.845563e-08, time: 0.3826168459999906\n",
      "Scan: 60 , Value: 2.058205e-08, time: 0.3835046129999853\n",
      "Scan: 61 , Value: 1.049977e-06, time: 0.35162347300001784\n",
      "Scan: 62 , Value: 7.369935e-05, time: 0.38353842099999724\n",
      "Scan: 63 , Value: 7.03797e-09, time: 0.3675051810000127\n",
      "Scan: 64 , Value: 1.092503e-09, time: 0.38354415599999925\n",
      "Scan: 65 , Value: -8.154466e-09, time: 0.36761173700000427\n",
      "Scan: 66 , Value: -1.849595e-08, time: 0.3835332900000026\n",
      "Scan: 67 , Value: -1.689643e-08, time: 0.38255375800000024\n",
      "Scan: 68 , Value: -1.531002e-08, time: 0.38359184999998774\n",
      "Scan: 69 , Value: -1.472877e-08, time: 0.3835882279999794\n",
      "Scan: 70 , Value: 1.050034e-06, time: 0.3515757790000009\n",
      "Scan: 71 , Value: -1.764013e-08, time: 0.3675477429999887\n",
      "Scan: 72 , Value: -1.887836e-08, time: 0.3675528750000012\n",
      "Scan: 73 , Value: -1.390341e-08, time: 0.36761505699999475\n",
      "Scan: 74 , Value: -2.299628e-09, time: 0.3835399310000014\n",
      "Scan: 75 , Value: 1.976163e-09, time: 0.38253443800002174\n",
      "Scan: 76 , Value: -2.805824e-09, time: 0.38353600700000356\n",
      "Scan: 77 , Value: 1.050009e-06, time: 0.35162890600000196\n",
      "Scan: 78 , Value: 4.569187e-05, time: 0.3835411379999982\n",
      "Scan: 79 , Value: 1.764348e-08, time: 0.367529329000007\n",
      "Scan: 80 , Value: 1.918296e-08, time: 0.38353932699999405\n",
      "Scan: 81 , Value: 2.442857e-08, time: 0.36760509599997704\n",
      "Scan: 82 , Value: -2.456278e-08, time: 0.3835387229999867\n",
      "Scan: 83 , Value: 1.809551e-08, time: 0.38268898999999124\n",
      "Scan: 84 , Value: 2.095852e-08, time: 0.3832899910000265\n",
      "Scan: 85 , Value: 1.049969e-06, time: 0.35164037800001324\n",
      "Scan: 86 , Value: 7.00245e-05, time: 0.38352755399998273\n",
      "Scan: 87 , Value: 6.262904e-09, time: 0.36756162800000425\n",
      "Scan: 88 , Value: -9.958326e-09, time: 0.3835381190000078\n",
      "Scan: 89 , Value: -1.112388e-08, time: 0.3676102270000001\n",
      "Scan: 90 , Value: -2.044757e-08, time: 0.3825480220000088\n",
      "Scan: 91 , Value: -1.390713e-08, time: 0.36753144200000065\n",
      "Scan: 92 , Value: -1.754584e-08, time: 0.38353902499997616\n",
      "Scan: 93 , Value: 1.05004e-06, time: 0.35162739799997667\n",
      "Scan: 94 , Value: -1.764958e-08, time: 0.3675519690000044\n",
      "Scan: 95 , Value: -1.400047e-08, time: 0.367447827999996\n",
      "Scan: 96 , Value: -8.142498e-09, time: 0.36755015800000024\n",
      "Scan: 97 , Value: 7.191695e-09, time: 0.3836033209999812\n",
      "Scan: 98 , Value: 1.226949e-08, time: 0.3835348000000067\n",
      "Scan: 99 , Value: 1.285583e-08, time: 0.3835181970000008\n",
      "Scan: 100 , Value: 1.049916e-06, time: 0.35056606200001283\n",
      "Scan: 101 , Value: 2.05316e-07, time: 0.36753265000001534\n"
     ]
    },
    {
     "data": {
      "image/png": "[encoded data removed]",
      "text/plain": [
       "<Figure size 576x432 with 1 Axes>"
      ]
     },
     "metadata": {
      "needs_background": "light"
     },
     "output_type": "display_data"
    }
   ],
   "source": [
    "time_s = []\n",
    "time_accu = []\n",
    "Value = []\n",
    "i = 0\n",
    "\n",
    "rate = 200 # per minute \n",
    "duration = 0.5 # minutes\n",
    "\n",
    "iterate = int(rate*duration)\n",
    "init = time.perf_counter()\n",
    "\n",
    "for i in range(0, iterate+1, 1): # Iterating i here <<<<<<<<<<<<<<<<<<<<<<<<<<<<<<<\n",
    "    start = time.perf_counter()\n",
    "    time_accu.append(start-init)\n",
    "    time_s.append(duration/rate)\n",
    "    Value.append(Measure())\n",
    "    time.sleep((duration*60/rate)) # -0.38 delay compensated (?)\n",
    "    stop = time.perf_counter()\n",
    "    runtime = stop-start\n",
    "    print(\"Scan:\", i+1, ', Value: ' + str(Value[i])+ ', time:', runtime)\n",
    "winsound.PlaySound(\"SystemHand\", winsound.SND_ALIAS)\n",
    "    \n",
    "import csv\n",
    "\n",
    "Data = np.column_stack((time_accu,Value))\n",
    "Data = pd.DataFrame(Data)\n",
    "Data.columns = ['Time','Measurements'] # set column names of Pandas dataFrame, notice that, Time is in Column 1.\n",
    "export_csv = Data.to_csv ('Exported.csv', index = None, header=True)\n",
    "\n",
    "plt.figure(figsize=(8,6))\n",
    "line1 = plt.plot(time_accu,Value,'o-r',linewidth='3',label='Measurements',ms=8)\n",
    "plt.legend()\n",
    "plt.xlabel('Iteration',fontsize=14)\n",
    "plt.ylabel('Measurements',fontsize=14)\n",
    "plt.grid()\n",
    "plt.tick_params(labelsize = 14)\n",
    "plt.savefig('Plot_1.png', dpi=600,bbox_inches='tight')\n",
    "plt.show()"
   ]
  },
  {
   "cell_type": "code",
   "execution_count": null,
   "metadata": {},
   "outputs": [],
   "source": []
  },
  {
   "cell_type": "code",
   "execution_count": null,
   "metadata": {},
   "outputs": [],
   "source": []
  },
  {
   "cell_type": "code",
   "execution_count": null,
   "metadata": {},
   "outputs": [],
   "source": []
  },
  {
   "cell_type": "code",
   "execution_count": null,
   "metadata": {},
   "outputs": [],
   "source": []
  }
 ],
 "metadata": {
  "kernelspec": {
   "display_name": "Python 3",
   "language": "python",
   "name": "python3"
  },
  "language_info": {
   "codemirror_mode": {
    "name": "ipython",
    "version": 3
   },
   "file_extension": ".py",
   "mimetype": "text/x-python",
   "name": "python",
   "nbconvert_exporter": "python",
   "pygments_lexer": "ipython3",
   "version": "3.7.3"
  }
 },
 "nbformat": 4,
 "nbformat_minor": 2
}
