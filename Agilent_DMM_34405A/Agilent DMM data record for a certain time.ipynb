{
 "cells": [
  {
   "cell_type": "markdown",
   "metadata": {},
   "source": [
    "__Author: Sayemul Islam (ECE dept., Temple University)__"
   ]
  },
  {
   "cell_type": "code",
   "execution_count": 1,
   "metadata": {},
   "outputs": [
    {
     "data": {
      "text/plain": [
       "('ASRL1::INSTR', 'ASRL3::INSTR')"
      ]
     },
     "execution_count": 1,
     "metadata": {},
     "output_type": "execute_result"
    }
   ],
   "source": [
    "# VISA Resource Name: USB0::0xF4ED::0xEE3A::447K15118::INSTR\n",
    "\n",
    "import visa #pip install pyvisa\n",
    "from datetime import datetime\n",
    "import time\n",
    "import openpyxl # Excel processor library\n",
    "import os # To open any files in file browser\n",
    "import sys # Interfacing computer HID system\n",
    "import readchar # pip install readchar\n",
    "import numpy as np\n",
    "from decimal import Decimal\n",
    "import itertools\n",
    "import winsound # To access windows default audio library \n",
    "import matplotlib.pyplot as plt\n",
    "from matplotlib.mlab import find\n",
    "%matplotlib inline\n",
    "\n",
    "excelfile = 'CapturedData.xlsx'\n",
    "\n",
    "# Connected VISA device should be displayed here:\n",
    "rm = visa.ResourceManager()\n",
    "rm.list_resources()"
   ]
  },
  {
   "cell_type": "code",
   "execution_count": 2,
   "metadata": {},
   "outputs": [],
   "source": [
    "def Excel_clear():\n",
    "    i = 0\n",
    "    # Excel Setup\n",
    "    wb = openpyxl.load_workbook(excelfile)\n",
    "    sheet = wb.active\n",
    "\n",
    "    ######## Headings ##########\n",
    "    sheet['A1'] = 'Last Updated:'\n",
    "    sheet['A2'] = 'Iteration' # R1\n",
    "    sheet['B2'] = 'DC Voltage' # R2\n",
    "    sheet['C2'] = 'Time Stamp' # R3\n",
    "    ###########################\n",
    "\n",
    "    for row in sheet['A3:K10000']:\n",
    "        for cell in row:\n",
    "            cell.value = None \n",
    "    wb.save(excelfile)"
   ]
  },
  {
   "cell_type": "code",
   "execution_count": 1,
   "metadata": {},
   "outputs": [],
   "source": [
    "dmm = rm.open_resource('USB0::0x0957::0x0618::TW46510051::0::INSTR') # Station 01's address\n",
    "\n",
    "print(dmm.query(\"*IDN?\"))"
   ]
  },
  {
   "cell_type": "code",
   "execution_count": 118,
   "metadata": {},
   "outputs": [],
   "source": [
    "def Measure():\n",
    "    global DC_V\n",
    "    DC_V = dmm.query_ascii_values(':MEAS:VOLT:DC?')\n",
    "    DC_V = DC_V[0] \n",
    "    return DC_V    "
   ]
  },
  {
   "cell_type": "code",
   "execution_count": 119,
   "metadata": {},
   "outputs": [
    {
     "name": "stdout",
     "output_type": "stream",
     "text": [
      "Scan: 1 , DC Voltage: 1 V, time: 10.208947099999932\n",
      "Scan: 2 , DC Voltage: 2 V, time: 10.15103789999921\n",
      "Scan: 3 , DC Voltage: 5 V, time: 10.145998399999371\n",
      "Scan: 4 , DC Voltage: 10 V, time: 10.1938865000011\n",
      "Scan: 5 , DC Voltage: 17 V, time: 10.14476730000024\n",
      "Scan: 6 , DC Voltage: 26 V, time: 10.144118600001093\n",
      "Scan: 7 , DC Voltage: 37 V, time: 10.194638699998904\n",
      "Scan: 8 , DC Voltage: 50 V, time: 10.159754899999825\n",
      "Scan: 9 , DC Voltage: 65 V, time: 10.192581299999802\n",
      "Scan: 10 , DC Voltage: 82 V, time: 10.19559659999868\n",
      "Scan: 11 , DC Voltage: 101 V, time: 10.178148000000874\n",
      "Scan: 12 , DC Voltage: 122 V, time: 10.184336199999962\n"
     ]
    }
   ],
   "source": [
    "time_in_min = []\n",
    "DC_Volt = []\n",
    "i=0\n",
    "rate = 10 # data per min (must be less than 60)\n",
    "duration = 5 # minutes\n",
    "\n",
    "iterate = rate*duration\n",
    "\n",
    "Excel_clear() # Clear previous measurements\n",
    "\n",
    "for i in range(0, iterate, 1): # Iterating i here <<<<<<<<<<<<<<<<<<<<<<<<<<<<<<<\n",
    "    start = time.perf_counter()\n",
    "    Measure()\n",
    "    time_in_min.append(i)\n",
    "    DC_Volt.append(DC_V)\n",
    "    #write to excel\n",
    "    sheet.cell(row=3+i, column=1).value=i+1\n",
    "    sheet.cell(row=3+i, column=2).value=DC_V\n",
    "    sheet.cell(row=3+i, column=3).value=datetime.now()\n",
    "    sheet['C1'] = datetime.now() # Last Updated Time Stamp\n",
    "    wb.save(excelfile)\n",
    "    time.sleep((60/rate))\n",
    "    stop = time.perf_counter()\n",
    "    runtime = stop-start\n",
    "    print(\"Scan:\", i+1, ', DC Voltage: ' + str(DC_V)+' V, time:', runtime)\n",
    "\n",
    "winsound.PlaySound(\"SystemHand\", winsound.SND_ALIAS)\n",
    "os.startfile(excelfile)\n",
    "\n",
    "time_min = [i + 1 for i in time_in_min]\n",
    "time_frac = [i / rate for i in time_min]\n",
    "\n",
    "plt.figure(figsize=(8,6))\n",
    "line1 = plt.plot(time_frac,DC_Volt,'o-r',linewidth='3',label='Voltage',ms=8)\n",
    "plt.legend()\n",
    "plt.xlabel('Time (Minutes)',fontsize=14)\n",
    "plt.ylabel('Voltage (V)',fontsize=14)\n",
    "plt.grid()\n",
    "plt.tick_params(labelsize = 14)\n",
    "plt.savefig('Plot_1.png', dpi=600,bbox_inches='tight')\n",
    "plt.show()\n",
    "\n",
    "dmm.close()\n",
    "rm.close()"
   ]
  },
  {
   "cell_type": "code",
   "execution_count": 7,
   "metadata": {},
   "outputs": [],
   "source": []
  },
  {
   "cell_type": "code",
   "execution_count": null,
   "metadata": {},
   "outputs": [],
   "source": []
  }
 ],
 "metadata": {
  "kernelspec": {
   "display_name": "Python 3",
   "language": "python",
   "name": "python3"
  },
  "language_info": {
   "codemirror_mode": {
    "name": "ipython",
    "version": 3
   },
   "file_extension": ".py",
   "mimetype": "text/x-python",
   "name": "python",
   "nbconvert_exporter": "python",
   "pygments_lexer": "ipython3",
   "version": "3.7.3"
  }
 },
 "nbformat": 4,
 "nbformat_minor": 2
}
