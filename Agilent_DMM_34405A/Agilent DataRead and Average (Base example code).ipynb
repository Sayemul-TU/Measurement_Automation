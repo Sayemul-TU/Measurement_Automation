{
 "cells": [
  {
   "cell_type": "markdown",
   "metadata": {},
   "source": [
    "__Author: Sayemul Islam (ECE dept., Temple University)__"
   ]
  },
  {
   "cell_type": "code",
   "execution_count": 4,
   "metadata": {},
   "outputs": [
    {
     "data": {
      "text/plain": [
       "('USB0::0x0957::0x0618::TW46510051::0::INSTR',\n",
       " 'USB0::0x0957::0x0618::TW47110007::0::INSTR',\n",
       " 'USB0::0x2A8D::0x1776::MY56311627::0::INSTR',\n",
       " 'USB0::0x2A8D::0x1797::CN57266427::0::INSTR')"
      ]
     },
     "execution_count": 4,
     "metadata": {},
     "output_type": "execute_result"
    }
   ],
   "source": [
    "# VISA Resource Name: USB0::0xF4ED::0xEE3A::447K15118::INSTR\n",
    "\n",
    "import visa\n",
    "import time\n",
    "import openpyxl # Excel processor library\n",
    "import os # To open any files in file browser\n",
    "import sys # Interfacing computer HID system\n",
    "import readchar # Read char from keyboard\n",
    "import numpy as np\n",
    "from decimal import Decimal\n",
    "import itertools\n",
    "import winsound # To access windows default audio library \n",
    "import matplotlib.pyplot as plt\n",
    "from matplotlib.mlab import find\n",
    "%matplotlib inline\n",
    "\n",
    "excelfile = 'CapturedData.xlsx'\n",
    "\n",
    "rm = visa.ResourceManager()\n",
    "rm.list_resources()"
   ]
  },
  {
   "cell_type": "code",
   "execution_count": 10,
   "metadata": {},
   "outputs": [],
   "source": [
    "i=0\n",
    "time.sleep(.2)\n",
    "\n",
    "# Excel Setup\n",
    "wb = openpyxl.load_workbook(excelfile)\n",
    "sheet = wb.active\n",
    "\n",
    "######## Headings ##########\n",
    "sheet['A1'] = 'Last Updated:'\n",
    "sheet['A2'] = 'Iteration'\n",
    "sheet['B2'] = 'Count'\n",
    "sheet['C2'] = 'A'\n",
    "sheet['D2'] = 'B'\n",
    "sheet['E2'] = 'C'\n",
    "sheet['F2'] = 'D'\n",
    "sheet['G2'] = 'E'\n",
    "sheet['J2'] = 'Time Stamp'\n",
    "###########################\n",
    "\n",
    "for row in sheet['A3:K10000']:\n",
    "  for cell in row:\n",
    "    cell.value = None \n",
    "wb.save(excelfile)"
   ]
  },
  {
   "cell_type": "code",
   "execution_count": 11,
   "metadata": {},
   "outputs": [
    {
     "name": "stdout",
     "output_type": "stream",
     "text": [
      "Agilent Technologies,34405A,TW46510051,1.33-3.07\n",
      "\n"
     ]
    }
   ],
   "source": [
    "dmm = rm.open_resource('USB0::0x0957::0x0618::TW46510051::0::INSTR') # Station 01's address\n",
    "\n",
    "print(dmm.query(\"*IDN?\"))"
   ]
  },
  {
   "cell_type": "code",
   "execution_count": 37,
   "metadata": {},
   "outputs": [],
   "source": [
    "def Measure():\n",
    "    DC_V = dmm.query_ascii_values(':MEAS:VOLT:DC?')\n",
    "    DC_V = DC_V[0]\n",
    "    return DC_V\n",
    "    print('')\n",
    "    print('DC Voltage: ' + str(DC_V)+' V')"
   ]
  },
  {
   "cell_type": "code",
   "execution_count": 38,
   "metadata": {},
   "outputs": [
    {
     "name": "stdout",
     "output_type": "stream",
     "text": [
      "Wall time: 3.07 s\n"
     ]
    }
   ],
   "source": [
    "# %%time\n",
    "# for i in np.arange(0, 3, 1): # Iterating i here <<<<<<<<<<<<<<<<<<<<<<<<<<<<<<<\n",
    "#     Measure()"
   ]
  },
  {
   "cell_type": "code",
   "execution_count": 39,
   "metadata": {},
   "outputs": [
    {
     "name": "stdout",
     "output_type": "stream",
     "text": [
      "Wall time: 3.06 s\n"
     ]
    }
   ],
   "source": [
    "%%time\n",
    "\n",
    "#DC_V = 0\n",
    "Avg = []\n",
    "\n",
    "for i in np.arange(0, 3, 1): # Iterating i here <<<<<<<<<<<<<<<<<<<<<<<<<<<<<<<\n",
    "    Measure()\n",
    "    Avg.append(DC_V)"
   ]
  },
  {
   "cell_type": "code",
   "execution_count": 40,
   "metadata": {},
   "outputs": [
    {
     "data": {
      "text/plain": [
       "[0, 0, 0]"
      ]
     },
     "execution_count": 40,
     "metadata": {},
     "output_type": "execute_result"
    }
   ],
   "source": [
    "Avg"
   ]
  },
  {
   "cell_type": "markdown",
   "metadata": {},
   "source": [
    "### Showing individual measurement functions:"
   ]
  },
  {
   "cell_type": "code",
   "execution_count": 81,
   "metadata": {},
   "outputs": [
    {
     "name": "stdout",
     "output_type": "stream",
     "text": [
      "DC Voltage: -1e-06 V\n"
     ]
    }
   ],
   "source": [
    "DC_V = dmm.query_ascii_values(':MEAS:VOLT:DC?')\n",
    "DC_V = DC_V[0]\n",
    "print('DC Voltage: ' + str(DC_V)+' V')"
   ]
  },
  {
   "cell_type": "code",
   "execution_count": 1,
   "metadata": {},
   "outputs": [],
   "source": [
    "## Doesn't work if no ac source is connected\n",
    "AC_V = dmm.query_ascii_values(':MEAS:VOLT:AC?')\n",
    "AC_V = AC_V[0]\n",
    "print('AC Voltage: ' + str(AC_V)+' V')"
   ]
  },
  {
   "cell_type": "code",
   "execution_count": 67,
   "metadata": {},
   "outputs": [
    {
     "name": "stdout",
     "output_type": "stream",
     "text": [
      "Resistance: 215.64 Ohms\n"
     ]
    }
   ],
   "source": [
    "R = dmm.query_ascii_values(':MEAS:RES?')\n",
    "R = R[0]\n",
    "print('Resistance: ' + str(R)+' Ohms')"
   ]
  },
  {
   "cell_type": "code",
   "execution_count": 2,
   "metadata": {},
   "outputs": [],
   "source": [
    "Freq = dmm.query_ascii_values(':MEAS:FREQ?')\n",
    "Freq = Freq[0]\n",
    "print('Frequency: ' + str(Freq)+' Hz')"
   ]
  },
  {
   "cell_type": "code",
   "execution_count": null,
   "metadata": {},
   "outputs": [],
   "source": [
    "DC_V = dmm.query_ascii_values(':MEAS:VOLT:DC?')\n",
    "DC_V = DC_V[0]\n",
    "print('DC Voltage: ' + str(DC_V)+' V')"
   ]
  },
  {
   "cell_type": "code",
   "execution_count": null,
   "metadata": {},
   "outputs": [],
   "source": [
    "Freq = dmm.query_ascii_values(':MEAS:FREQ?')\n",
    "Freq = Freq[0]\n",
    "\n",
    "C = dmm.query_ascii_values(':MEAS:CAP?')\n",
    "C = C[0]"
   ]
  },
  {
   "cell_type": "code",
   "execution_count": 7,
   "metadata": {},
   "outputs": [],
   "source": [
    "dmm.close()\n",
    "rm.close()"
   ]
  },
  {
   "cell_type": "code",
   "execution_count": null,
   "metadata": {},
   "outputs": [],
   "source": []
  }
 ],
 "metadata": {
  "kernelspec": {
   "display_name": "Python 3",
   "language": "python",
   "name": "python3"
  },
  "language_info": {
   "codemirror_mode": {
    "name": "ipython",
    "version": 3
   },
   "file_extension": ".py",
   "mimetype": "text/x-python",
   "name": "python",
   "nbconvert_exporter": "python",
   "pygments_lexer": "ipython3",
   "version": "3.7.3"
  }
 },
 "nbformat": 4,
 "nbformat_minor": 2
}
