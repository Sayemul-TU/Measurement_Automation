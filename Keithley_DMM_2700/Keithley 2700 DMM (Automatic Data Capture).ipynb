{
 "cells": [
  {
   "cell_type": "markdown",
   "metadata": {},
   "source": [
    "### Read Keithley 2700 Multimeter (DMM) using Python over serial communication\n",
    "\n",
    "You may use Serial to USB converter for this job (which I did). Make sure the driver is installed properly. There are more instructions to follow, check the code comments.\n",
    "\n",
    "USB Serial Driver Issue?\n",
    "\n",
    "Windows 10, 64 bit machine: \"Microsoft -> USB Serial Device\" driver should be used.\n",
    "1. Go to Device Manager, right click on the defective serial device\n",
    "2. Go to \"Update Driver\" \n",
    "3. Browse my computer... \n",
    "4. Let me pick...\n",
    "5. Remove \"Show compatible hardware\" check and choose Microsoft -> USB Serial Device"
   ]
  },
  {
   "cell_type": "code",
   "execution_count": 14,
   "metadata": {},
   "outputs": [
    {
     "data": {
      "text/plain": [
       "('ASRL1::INSTR', 'ASRL3::INSTR', 'ASRL13::INSTR')"
      ]
     },
     "execution_count": 14,
     "metadata": {},
     "output_type": "execute_result"
    }
   ],
   "source": [
    "import visa #pip install pyvisa\n",
    "from datetime import datetime\n",
    "import time\n",
    "import openpyxl # Excel processor library\n",
    "import os # To open any files in file browser\n",
    "import sys # Interfacing computer HID system\n",
    "import readchar # pip install readchar\n",
    "import numpy as np\n",
    "from decimal import Decimal\n",
    "import itertools\n",
    "import winsound # To access windows default audio library \n",
    "import matplotlib.pyplot as plt\n",
    "from matplotlib.mlab import find\n",
    "%matplotlib inline\n",
    "\n",
    "excelfile = 'CapturedData.xlsx'\n",
    "\n",
    "rm = visa.ResourceManager()\n",
    "rm.list_resources() #     < --  Shows you connected serial port devices"
   ]
  },
  {
   "cell_type": "code",
   "execution_count": 10,
   "metadata": {},
   "outputs": [],
   "source": [
    "keithley = rm.open_resource(rm.list_resources()[2]) # 'ASRL11::INSTR' < -- Select the appropriate one\n",
    "keithley.baud_rate = 9600  #   < -- Manually set the same baud rate with the device\n",
    "keithley.timeout = 1000 #   < -- Give it extra time if timeout error occurs\n",
    "\n",
    "# '\\r' when the termination character is CR (Carriage return), if it is set to LF (Line feed), \n",
    "# this can be removed and code will use '\\n' by default\n",
    "keithley.read_termination = '\\r'  #   < -- This is very important, by default it was '\\n'"
   ]
  },
  {
   "cell_type": "code",
   "execution_count": 11,
   "metadata": {},
   "outputs": [
    {
     "data": {
      "text/plain": [
       "'KEITHLEY INSTRUMENTS INC.,MODEL 2700,0916461,B04  /A02  '"
      ]
     },
     "execution_count": 11,
     "metadata": {},
     "output_type": "execute_result"
    }
   ],
   "source": [
    "keithley.write(\"*IDN?\") \n",
    "keithley.read()  # Output: 'KEITHLEY INSTRUMENTS INC.,MODEL 2700,0916461,B04  /A02  '"
   ]
  },
  {
   "cell_type": "code",
   "execution_count": 131,
   "metadata": {},
   "outputs": [],
   "source": [
    "def Excel_clear():\n",
    "    i = 0\n",
    "    # Excel Setup\n",
    "    wb = openpyxl.load_workbook(excelfile)\n",
    "    sheet = wb.active\n",
    "\n",
    "    ######## Headings ##########\n",
    "    sheet['A1'] = 'Last Updated:'\n",
    "    sheet['A2'] = 'Iteration' # R1\n",
    "    sheet['B2'] = 'DC Voltage' # R2\n",
    "    sheet['C2'] = 'Time Stamp' # R3\n",
    "    ###########################\n",
    "\n",
    "    for row in sheet['A3:K10000']:\n",
    "        for cell in row:\n",
    "            cell.value = None \n",
    "    wb.save(excelfile)"
   ]
  },
  {
   "cell_type": "code",
   "execution_count": 93,
   "metadata": {},
   "outputs": [],
   "source": [
    "# Better to set the reading rate: 'SLOW' in Keithley (it will average the data in the hardware for accurate measurements)\n",
    "# To change the measurement mode, press local on the device, change the mode there first. This code will read whatever is on\n",
    "# the screen.\n",
    "\n",
    "def Measure():\n",
    "    global Out\n",
    "    keithley.write(\"DATA?\")   \n",
    "    Read = keithley.read() # Output: '+1.19479315E-04VDC,+2424.488SECS,+47668RDNG#'\n",
    "    Out = Read.split(',', 3)\n",
    "    return Out"
   ]
  },
  {
   "cell_type": "code",
   "execution_count": 54,
   "metadata": {},
   "outputs": [],
   "source": [
    "# output = Measure()"
   ]
  },
  {
   "cell_type": "code",
   "execution_count": 132,
   "metadata": {},
   "outputs": [],
   "source": [
    "# out_1 = output[0][:-3] # Measured value\n",
    "# out_2 = output[1][:-4] # Time stamp\n",
    "# out_3 = output[2][:-5] # Number of samples averaged"
   ]
  },
  {
   "cell_type": "code",
   "execution_count": 134,
   "metadata": {},
   "outputs": [
    {
     "name": "stdout",
     "output_type": "stream",
     "text": [
      "Scan: 1 , DC Voltage: 0.000119260185 V, time: 6.478452105000542\n",
      "Scan: 2 , DC Voltage: 0.000118018892 V, time: 6.341866339999797\n",
      "Scan: 3 , DC Voltage: 0.000118697855 V, time: 6.355884161999711\n",
      "Scan: 4 , DC Voltage: 0.000118818352 V, time: 6.358868360000088\n",
      "Scan: 5 , DC Voltage: 0.000118662443 V, time: 6.358872886999961\n",
      "Scan: 6 , DC Voltage: 0.000118706026 V, time: 6.43183027699979\n",
      "Scan: 7 , DC Voltage: 0.000118530108 V, time: 6.3608636610006215\n",
      "Scan: 8 , DC Voltage: 0.000118125063 V, time: 6.365868515999864\n",
      "Scan: 9 , DC Voltage: 0.000116980344 V, time: 6.340926647000742\n",
      "Scan: 10 , DC Voltage: 0.000117880154 V, time: 6.341812005000065\n",
      "Scan: 11 , DC Voltage: 0.000118261771 V, time: 6.353922366000006\n",
      "Scan: 12 , DC Voltage: 0.000118467513 V, time: 6.3578571250000095\n",
      "Scan: 13 , DC Voltage: 0.000118743381 V, time: 6.432770272000198\n",
      "Scan: 14 , DC Voltage: 0.000118710013 V, time: 6.3648606019996805\n",
      "Scan: 15 , DC Voltage: 0.000118628217 V, time: 6.365857347000201\n",
      "Scan: 16 , DC Voltage: 0.000118551005 V, time: 6.351873636000164\n",
      "Scan: 17 , DC Voltage: 0.00011868812 V, time: 6.354929375000211\n",
      "Scan: 18 , DC Voltage: 0.000118591714 V, time: 6.3458886380003605\n",
      "Scan: 19 , DC Voltage: 0.000118557131 V, time: 6.359876876999806\n",
      "Scan: 20 , DC Voltage: 0.000118415948 V, time: 6.4338276910002605\n",
      "Scan: 21 , DC Voltage: 0.000118558135 V, time: 6.354863569000372\n",
      "Scan: 22 , DC Voltage: 0.00011860524 V, time: 6.362933522000276\n",
      "Scan: 23 , DC Voltage: 0.000118587392 V, time: 6.3498569030007275\n",
      "Scan: 24 , DC Voltage: 0.000118366261 V, time: 6.358890698000323\n",
      "Scan: 25 , DC Voltage: 0.000118360644 V, time: 6.357850483999755\n",
      "Scan: 26 , DC Voltage: 0.000118396973 V, time: 6.355863937000322\n",
      "Scan: 27 , DC Voltage: 0.000118389216 V, time: 6.433822560000408\n",
      "Scan: 28 , DC Voltage: 0.000118452532 V, time: 6.354870512000161\n",
      "Scan: 29 , DC Voltage: 0.000118449825 V, time: 6.357876746000329\n",
      "Scan: 30 , DC Voltage: 0.000118295822 V, time: 6.359869934000017\n",
      "Scan: 31 , DC Voltage: 0.000118454707 V, time: 6.356879398000274\n",
      "Scan: 32 , DC Voltage: 0.000118303171 V, time: 6.357874330999948\n",
      "Scan: 33 , DC Voltage: 0.000118492433 V, time: 6.344868649000091\n",
      "Scan: 34 , DC Voltage: 0.000118548669 V, time: 6.421816642000522\n",
      "Scan: 35 , DC Voltage: 0.000118353557 V, time: 6.354936016000465\n",
      "Scan: 36 , DC Voltage: 0.00011827868 V, time: 6.356864304000737\n",
      "Scan: 37 , DC Voltage: 0.000118301141 V, time: 6.3598744620003345\n",
      "Scan: 38 , DC Voltage: 0.000118276657 V, time: 6.358865944999707\n",
      "Scan: 39 , DC Voltage: 0.000118381722 V, time: 6.356869737999659\n",
      "Scan: 40 , DC Voltage: 0.000118253047 V, time: 6.357870406000075\n",
      "Scan: 41 , DC Voltage: 0.000118471333 V, time: 6.410846106999998\n",
      "Scan: 42 , DC Voltage: 0.000118709468 V, time: 6.354883492000226\n",
      "Scan: 43 , DC Voltage: 0.000118840318 V, time: 6.3657501859997865\n",
      "Scan: 44 , DC Voltage: 0.000118752112 V, time: 6.358881641000153\n",
      "Scan: 45 , DC Voltage: 0.000118634744 V, time: 6.350862704000065\n",
      "Scan: 46 , DC Voltage: 0.000118751275 V, time: 6.351878164000482\n",
      "Scan: 47 , DC Voltage: 0.000118725242 V, time: 6.352856797000641\n",
      "Scan: 48 , DC Voltage: 0.000118605843 V, time: 6.431882499000494\n",
      "Scan: 49 , DC Voltage: 0.000118484808 V, time: 6.365864592000435\n",
      "Scan: 50 , DC Voltage: 0.00011846151 V, time: 6.35687909599983\n"
     ]
    },
    {
     "data": {
      "image/png": "[encoded data removed]",
      "text/plain": [
       "<Figure size 576x432 with 1 Axes>"
      ]
     },
     "metadata": {
      "needs_background": "light"
     },
     "output_type": "display_data"
    }
   ],
   "source": [
    "# Measure DC output voltage over a period of time from Keithley DMM\n",
    "\n",
    "Excel_clear() # Clear previous measurements\n",
    "\n",
    "time_in_min = []\n",
    "DC_Volt = []\n",
    "i=0\n",
    "rate = 10 # data per min (must be less than 60)\n",
    "duration = 5 # minutes\n",
    "\n",
    "iterate = rate*duration\n",
    "\n",
    "for i in range(0, iterate, 1): # Iterating i here <<<<<<<<<<<<<<<<<<<<<<<<<<<<<<<\n",
    "    start = time.perf_counter()\n",
    "    Measure()\n",
    "    time_in_min.append(i)\n",
    "    DC_V = float(Out[0][:-3]) # It may need modification for ACV or Ohms.\n",
    "    #Current_Time = float(Out[1][:-4])\n",
    "    DC_Volt.append(DC_V)\n",
    "    #write to excel\n",
    "    sheet.cell(row=3+i, column=1).value=i+1\n",
    "    sheet.cell(row=3+i, column=2).value=DC_V\n",
    "    sheet.cell(row=3+i, column=3).value=datetime.now()\n",
    "    sheet['C1'] = datetime.now() # Last Updated Time Stamp\n",
    "    wb.save(excelfile)\n",
    "    time.sleep((60/rate))\n",
    "    stop = time.perf_counter()\n",
    "    runtime = stop-start\n",
    "    print(\"Scan:\", i+1, ', DC Voltage: ' + str(DC_V)+' V, time:', runtime)\n",
    "\n",
    "winsound.PlaySound(\"SystemHand\", winsound.SND_ALIAS)\n",
    "os.startfile(excelfile)\n",
    "\n",
    "time_min = [i + 1 for i in time_in_min]\n",
    "time_frac = [i / rate for i in time_min]\n",
    "\n",
    "plt.figure(figsize=(8,6))\n",
    "line1 = plt.plot(time_frac,DC_Volt,'o-r',linewidth='3',label='Voltage',ms=8)\n",
    "plt.legend()\n",
    "plt.xlabel('Time (Minutes)',fontsize=14)\n",
    "plt.ylabel('Voltage (V)',fontsize=14)\n",
    "plt.grid()\n",
    "plt.tick_params(labelsize = 14)\n",
    "plt.savefig('Plot_1.png', dpi=600,bbox_inches='tight')\n",
    "plt.show()"
   ]
  },
  {
   "cell_type": "code",
   "execution_count": null,
   "metadata": {},
   "outputs": [],
   "source": []
  }
 ],
 "metadata": {
  "kernelspec": {
   "display_name": "Python 3",
   "language": "python",
   "name": "python3"
  },
  "language_info": {
   "codemirror_mode": {
    "name": "ipython",
    "version": 3
   },
   "file_extension": ".py",
   "mimetype": "text/x-python",
   "name": "python",
   "nbconvert_exporter": "python",
   "pygments_lexer": "ipython3",
   "version": "3.7.0"
  }
 },
 "nbformat": 4,
 "nbformat_minor": 2
}
