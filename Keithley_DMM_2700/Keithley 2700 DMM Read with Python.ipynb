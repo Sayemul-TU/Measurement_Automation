{
 "cells": [
  {
   "cell_type": "markdown",
   "metadata": {},
   "source": [
    "### Read Keithley 2700 Multimeter (DMM) using Python over serial communication\n",
    "\n",
    "__Autor: Sayemul Islam (ECE Dept., Temple University)__\n",
    "\n",
    "You may use Serial to USB converter for this job (which I did). Make sure the driver is installed properly. There are more instructions to follow, check the code comments.\n",
    "\n",
    "USB Serial Driver Issue?\n",
    "\n",
    "Windows 10, 64 bit machine: \"Microsoft -> USB Serial Device\" driver should be used.\n",
    "1. Go to Device Manager, right click on the defective serial device\n",
    "2. Go to \"Update Driver\" \n",
    "3. Browse my computer... \n",
    "4. Let me pick...\n",
    "5. Remove \"Show compatible hardware\" check and choose Microsoft -> USB Serial Device"
   ]
  },
  {
   "cell_type": "code",
   "execution_count": 65,
   "metadata": {},
   "outputs": [
    {
     "data": {
      "text/plain": [
       "('ASRL1::INSTR', 'ASRL3::INSTR', 'ASRL13::INSTR')"
      ]
     },
     "execution_count": 65,
     "metadata": {},
     "output_type": "execute_result"
    }
   ],
   "source": [
    "import visa #pip install pyvisa\n",
    "rm = visa.ResourceManager()\n",
    "rm.list_resources() #     < --  Shows you connected serial port devices"
   ]
  },
  {
   "cell_type": "code",
   "execution_count": 66,
   "metadata": {},
   "outputs": [],
   "source": [
    "keithley = rm.open_resource(rm.list_resources()[2]) # 'ASRL11::INSTR' < -- Select the appropriate one\n",
    "keithley.baud_rate = 9600  #   < -- Manually set the same baud rate with the device\n",
    "keithley.timeout = 1000 #   < -- Give it extra time if timeout error occurs\n",
    "\n",
    "# '\\r' when the termination character is CR (Carriage return), if it is set to LF (Line feed), \n",
    "# this can be removed and code will use '\\n' by default\n",
    "keithley.read_termination = '\\r'  #   < -- This is very important, by default it was '\\n'"
   ]
  },
  {
   "cell_type": "code",
   "execution_count": 67,
   "metadata": {},
   "outputs": [
    {
     "data": {
      "text/plain": [
       "'KEITHLEY INSTRUMENTS INC.,MODEL 2700,0916461,B04  /A02  '"
      ]
     },
     "execution_count": 67,
     "metadata": {},
     "output_type": "execute_result"
    }
   ],
   "source": [
    "keithley.write(\"*IDN?\") \n",
    "keithley.read()  # Output: 'KEITHLEY INSTRUMENTS INC.,MODEL 2700,0916461,B04  /A02  '"
   ]
  },
  {
   "cell_type": "code",
   "execution_count": 68,
   "metadata": {},
   "outputs": [
    {
     "data": {
      "text/plain": [
       "'+1.19229240E-04VDC,+3081.938SECS,+53966RDNG#'"
      ]
     },
     "execution_count": 68,
     "metadata": {},
     "output_type": "execute_result"
    }
   ],
   "source": [
    "# Better to set the reading rate: 'SLOW' in Keithley (it will average the data in the hardware for accurate measurements)\n",
    "# To change the measurement mode, press local on the device, change the mode there first. This code will read whatever is on\n",
    "# the screen.\n",
    "\n",
    "keithley.write(\"DATA?\")   \n",
    "keithley.read() # Output: '+1.19479315E-04VDC,+2424.488SECS,+47668RDNG#'"
   ]
  }
 ],
 "metadata": {
  "kernelspec": {
   "display_name": "Python 3",
   "language": "python",
   "name": "python3"
  },
  "language_info": {
   "codemirror_mode": {
    "name": "ipython",
    "version": 3
   },
   "file_extension": ".py",
   "mimetype": "text/x-python",
   "name": "python",
   "nbconvert_exporter": "python",
   "pygments_lexer": "ipython3",
   "version": "3.7.3"
  }
 },
 "nbformat": 4,
 "nbformat_minor": 2
}
